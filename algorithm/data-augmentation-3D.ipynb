{
 "cells": [
  {
   "cell_type": "markdown",
   "metadata": {},
   "source": [
    "This notebook is used for testing the posibilities of the data augmentation in keras. The functionality will added to the 2D/3D networks once the tests are done. "
   ]
  },
  {
   "cell_type": "code",
   "execution_count": 1,
   "metadata": {
    "collapsed": false
   },
   "outputs": [
    {
     "name": "stderr",
     "output_type": "stream",
     "text": [
      "Using TensorFlow backend.\n"
     ]
    }
   ],
   "source": [
    "# general imports\n",
    "import sys,os,time,random\n",
    "from os import walk\n",
    "import pickle\n",
    "from __future__ import print_function\n",
    "\n",
    "# scientific computing\n",
    "import numpy as np\n",
    "import matplotlib\n",
    "matplotlib.use('Agg');\n",
    "import matplotlib.pyplot as plt\n",
    "plt.set_cmap('jet');\n",
    "import skimage\n",
    "from skimage.io import imread, imsave\n",
    "import scipy\n",
    "\n",
    "# machine learning stuff\n",
    "import tensorflow as tf\n",
    "import keras \n",
    "from keras import backend as K\n",
    "from keras.preprocessing.image import ImageDataGenerator"
   ]
  },
  {
   "cell_type": "code",
   "execution_count": 2,
   "metadata": {
    "collapsed": true
   },
   "outputs": [],
   "source": [
    "%matplotlib inline"
   ]
  },
  {
   "cell_type": "code",
   "execution_count": 3,
   "metadata": {
    "collapsed": false
   },
   "outputs": [
    {
     "name": "stdout",
     "output_type": "stream",
     "text": [
      "keras 2.0.6\n",
      "tensorflow 1.0.0\n"
     ]
    }
   ],
   "source": [
    "print(\"keras\", keras.__version__)\n",
    "print(\"tensorflow\", tf.__version__)"
   ]
  },
  {
   "cell_type": "code",
   "execution_count": 4,
   "metadata": {
    "collapsed": false
   },
   "outputs": [
    {
     "name": "stdout",
     "output_type": "stream",
     "text": [
      "tensorflow\n",
      "tf\n",
      "channels_last\n"
     ]
    }
   ],
   "source": [
    "# check the backend the ordering of the channels\n",
    "print(keras.backend.backend())\n",
    "print(keras.backend.image_dim_ordering())\n",
    "print(K.image_data_format())"
   ]
  },
  {
   "cell_type": "code",
   "execution_count": 5,
   "metadata": {
    "collapsed": false
   },
   "outputs": [
    {
     "name": "stdout",
     "output_type": "stream",
     "text": [
      "Namespace(batchsize=32, data='cells', framesize=256, numbatches=5, seed=42, stacksize=27)\n"
     ]
    }
   ],
   "source": [
    "# this part is necessary to set the params from the command line\n",
    "import sys\n",
    "import argparse\n",
    "\n",
    "if len(sys.argv) == 3 and sys.argv[1] == \"-f\": #on jupyter\n",
    "    sys.argv = ['']\n",
    "    \n",
    "parser = argparse.ArgumentParser(description='Count-ception')\n",
    "\n",
    "parser.add_argument('-seed', type=int, nargs='?',default=42, help='random seed for split and init')\n",
    "parser.add_argument('-data', type=str, nargs='?',default=\"cells\", help='Dataset folder')\n",
    "parser.add_argument('-framesize', type=int, nargs='?',default=256, help='Size of the images processed at once')\n",
    "parser.add_argument('-stacksize', type=int, nargs='?',default=27, help='Size of the stack')\n",
    "parser.add_argument('-batchsize', type=int, nargs='?',default=32, help='Size of the batch in the generator')\n",
    "parser.add_argument('-numbatches', type=int, nargs='?',default=5, help='Num of batches in the generator')\n",
    "\n",
    "args = parser.parse_args()\n",
    "print(args)"
   ]
  },
  {
   "cell_type": "code",
   "execution_count": 19,
   "metadata": {
    "collapsed": false
   },
   "outputs": [],
   "source": [
    "# how much to extend the initial image \n",
    "patch_size = int(32)\n",
    "framesize = int(args.framesize)\n",
    "framesize_h = framesize_w = framesize\n",
    "stacksize = args.stacksize\n",
    "channels = int(1)\n",
    "batch_size = int(args.batchsize)\n",
    "num_batches = int(args.numbatches)"
   ]
  },
  {
   "cell_type": "code",
   "execution_count": 20,
   "metadata": {
    "collapsed": true
   },
   "outputs": [],
   "source": [
    "# reproducibility\n",
    "seed = args.seed\n",
    "random.seed(seed)\n",
    "np.random.seed(seed)\n",
    "tf.set_random_seed(seed)"
   ]
  },
  {
   "cell_type": "code",
   "execution_count": 21,
   "metadata": {
    "collapsed": false
   },
   "outputs": [
    {
     "name": "stdout",
     "output_type": "stream",
     "text": [
      "32-256-27-32-5-cells-generator-params-3D.p\n",
      "32-256-27-32-5-cells-generator-dataset-3D.p\n"
     ]
    }
   ],
   "source": [
    "# piclked names\n",
    "paramfilename = str(patch_size) + \"-\" + str(framesize) + \"-\" + str(stacksize) + \"-\" + str(batch_size) + \"-\" + str(num_batches) + \"-\" + args.data + \"-generator-params-3D.p\"\n",
    "datasetfilename = str(patch_size) + \"-\" + str(framesize) + \"-\" + str(stacksize) + \"-\" + str(batch_size) + \"-\" + str(num_batches) + \"-\" + args.data + \"-generator-dataset-3D.p\"\n",
    "print(paramfilename)\n",
    "print(datasetfilename)"
   ]
  },
  {
   "cell_type": "code",
   "execution_count": 22,
   "metadata": {
    "collapsed": false
   },
   "outputs": [
    {
     "name": "stdout",
     "output_type": "stream",
     "text": [
      "(256, 256, 27, 1) (288, 288, 59, 1)\n"
     ]
    }
   ],
   "source": [
    "# input shape is the image shape without the patches\n",
    "input_shape = (framesize, framesize, stacksize, channels)\n",
    "ext_shape = (input_shape[0] + patch_size, input_shape[0] + patch_size, stacksize + patch_size, 1)\n",
    "print (input_shape, ext_shape)"
   ]
  },
  {
   "cell_type": "code",
   "execution_count": 11,
   "metadata": {
    "collapsed": false
   },
   "outputs": [
    {
     "name": "stdout",
     "output_type": "stream",
     "text": [
      "Images path: /Users/kkolyva/dl-cell-counting/algorithm/data/test-cells-3D\n",
      "Labels path: /Users/kkolyva/dl-cell-counting/algorithm/data/test-cells-3D\n"
     ]
    }
   ],
   "source": [
    "# read the files from the test folder \n",
    "import glob\n",
    "\n",
    "prefix = '/Users/kkolyva/'\n",
    "# prefix = '/home/milkyklim/'\n",
    "folder = prefix + 'dl-cell-counting/algorithm/data/test-cells-3D'\n",
    "folder_images = \"\" # 'images/'\n",
    "folder_labels = \"\" # 'labels/'\n",
    "img_ext = '.tif'\n",
    "\n",
    "print('Images path:', folder + folder_images)\n",
    "print('Labels path:', folder + folder_labels)\n",
    "\n",
    "imgs = []\n",
    "\n",
    "for filename in glob.iglob(folder + folder_labels + \"/*dots\" + img_ext):\n",
    "    imgg = filename.replace(folder_labels + \"dots\", folder_images + \"cell\")\n",
    "    imgs.append([imgg,filename])\n",
    "    \n",
    "if len(imgs) == 0:\n",
    "    print(\"Issue with dataset\")\n",
    "    sys.exit()"
   ]
  },
  {
   "cell_type": "code",
   "execution_count": 12,
   "metadata": {
    "collapsed": false
   },
   "outputs": [],
   "source": [
    "for path in imgs: \n",
    "    if (not os.path.isfile(path[0])):\n",
    "        print(path, \"bad\", path[0])\n",
    "    if (not os.path.isfile(path[1])):\n",
    "        print(path, \"bad\", path[1])"
   ]
  },
  {
   "cell_type": "code",
   "execution_count": 13,
   "metadata": {
    "collapsed": false
   },
   "outputs": [
    {
     "name": "stdout",
     "output_type": "stream",
     "text": [
      "5\n",
      "/Users/kkolyva/dl-cell-counting/algorithm/data/test-cells-3D/001cell.tif\n",
      "img shape (256, 256, 27, 1) markers shape (256, 256, 27, 1)\n",
      "img shape (256, 256, 27, 1) markers shape (256, 256, 27, 1)\n",
      "/Users/kkolyva/dl-cell-counting/algorithm/data/test-cells-3D/002cell.tif\n",
      "img shape (256, 256, 27, 1) markers shape (256, 256, 27, 1)\n",
      "img shape (256, 256, 27, 1) markers shape (256, 256, 27, 1)\n",
      "/Users/kkolyva/dl-cell-counting/algorithm/data/test-cells-3D/003cell.tif\n",
      "img shape (256, 256, 27, 1) markers shape (256, 256, 27, 1)\n",
      "img shape (256, 256, 27, 1) markers shape (256, 256, 27, 1)\n",
      "/Users/kkolyva/dl-cell-counting/algorithm/data/test-cells-3D/004cell.tif\n",
      "img shape (256, 256, 27, 1) markers shape (256, 256, 27, 1)\n",
      "img shape (256, 256, 27, 1) markers shape (256, 256, 27, 1)\n",
      "/Users/kkolyva/dl-cell-counting/algorithm/data/test-cells-3D/005cell.tif\n",
      "img shape (256, 256, 27, 1) markers shape (256, 256, 27, 1)\n",
      "img shape (256, 256, 27, 1) markers shape (256, 256, 27, 1)\n",
      "writing 32-256-27-32-5-cells-generator-dataset-3D.p\n",
      "dataset size 5\n",
      "DONE\n"
     ]
    }
   ],
   "source": [
    "dataset = [] \n",
    "if (os.path.isfile(datasetfilename) and False):\n",
    "    print(\"reading\", datasetfilename)\n",
    "    dataset = pickle.load(open(datasetfilename, \"rb\" ))\n",
    "else:\n",
    "    dataset_x = []\n",
    "    dataset_l = []\n",
    "    print(len(imgs))\n",
    "    for path in imgs:\n",
    "        imgPath = path[0]\n",
    "        print(imgPath)\n",
    "        img = imread(imgPath).transpose([1,2,0])[:, :, :, None]\n",
    "        labelPath = path[1]\n",
    "        markers = imread(labelPath).transpose([1,2,0])[:, :, :, None]\n",
    "        \n",
    "        print(\"img shape\", img.shape, \"markers shape\", markers.shape)\n",
    "        \n",
    "        if (img.shape[0:2] != (framesize_w,framesize_h)) or (markers.shape[0:2] != (framesize_w,framesize_h)):\n",
    "            print(\"!!!! Not adding image because size is\" , img.shape[0:], markers.shape[0:])\n",
    "        else:\n",
    "            dataset.append((img, markers))        \n",
    "            print(\"img shape\", img.shape, \"markers shape\", markers.shape)\n",
    "        \n",
    "        sys.stdout.flush()\n",
    "    \n",
    "    print(\"writing\", datasetfilename)\n",
    "    out = open(datasetfilename, \"wb\",0)\n",
    "    pickle.dump(dataset, out)\n",
    "    print(\"dataset size\", len(dataset))        \n",
    "print(\"DONE\")"
   ]
  },
  {
   "cell_type": "code",
   "execution_count": 14,
   "metadata": {
    "collapsed": false
   },
   "outputs": [
    {
     "name": "stdout",
     "output_type": "stream",
     "text": [
      "np_dataset_x (5, 256, 256, 27, 1)\n",
      "np_dataset_l (5, 256, 256, 27, 1)\n"
     ]
    }
   ],
   "source": [
    "# grab the data from the data set\n",
    "np.random.shuffle(dataset)\n",
    "\n",
    "np_dataset_x = np.asarray([d[0] for d in dataset], dtype=np.float32)\n",
    "np_dataset_l = np.asarray([d[1] for d in dataset], dtype=np.float32)\n",
    "\n",
    "# np_dataset_x = np_dataset_x.transpose((0,3,1,2))\n",
    "\n",
    "print(\"np_dataset_x\", np_dataset_x.shape)\n",
    "print(\"np_dataset_l\", np_dataset_l.shape)"
   ]
  },
  {
   "cell_type": "code",
   "execution_count": 16,
   "metadata": {
    "collapsed": false
   },
   "outputs": [
    {
     "name": "stdout",
     "output_type": "stream",
     "text": [
      "total number of initial images:  5  ==  5\n"
     ]
    }
   ],
   "source": [
    "length = len(np_dataset_x)\n",
    "n = length\n",
    "\n",
    "np_dataset_x_train = np_dataset_x[:n]\n",
    "np_dataset_l_train = np_dataset_l[:n]\n",
    "\n",
    "print(\"total number of initial images: \", len(np_dataset_x_train), \" == \", n)"
   ]
  },
  {
   "cell_type": "code",
   "execution_count": 48,
   "metadata": {
    "collapsed": false
   },
   "outputs": [
    {
     "name": "stdout",
     "output_type": "stream",
     "text": [
      "1.0\n"
     ]
    },
    {
     "data": {
      "image/png": "[encoded data removed]",
      "text/plain": [
       "<matplotlib.figure.Figure at 0x122c0d160>"
      ]
     },
     "metadata": {},
     "output_type": "display_data"
    }
   ],
   "source": [
    "# plot 2 images to check that the labels are correct \n",
    "# DEBUG:\n",
    "sample = 4\n",
    "slice = 14\n",
    "plt.Figure(figsize=(5, 3), dpi=300)\n",
    "plt.subplot(121)\n",
    "img1 = np.array(np_dataset_x_train[sample, :, : ,slice, 0], dtype=np.float32) # .astype(np.uint8)\n",
    "plt.imshow(img1, cmap=plt.get_cmap('gray'), vmin=0, vmax=0.5)\n",
    "plt.subplot(122)\n",
    "img3 = np.array(np_dataset_l_train[sample, :, : ,slice, 0], dtype=np.float32) # .astype(np.uint8)\n",
    "plt.imshow(img3, cmap=plt.get_cmap('gray'))\n",
    "print(np.sum(img3) // 255)"
   ]
  },
  {
   "cell_type": "code",
   "execution_count": 50,
   "metadata": {
    "collapsed": false
   },
   "outputs": [],
   "source": [
    "# what is the plan here then? \n",
    "# = perfrom the slice-by-slice transformations  \n",
    "# = reset the seed so that the value stays the same\n",
    "\n",
    "# There are multiple problems with the feature generation for 3D images in keras \n",
    "# one of the important once is the fact that you can save only png and jpg images \n",
    "# but NOT tiff\n",
    "\n",
    "# Write your own simple transformer:\n",
    "# translate, rotate in x,y (z), horizontal_flip, vertical_flip\n",
    "\n",
    "\n",
    "# DEBUG:\n",
    "shift = 0.20\n",
    "image_data_gen_args = dict(featurewise_center = False, \n",
    "                             featurewise_std_normalization = False, \n",
    "                             zca_whitening = False, \n",
    "                             rotation_range = 5,\n",
    "                             width_shift_range = shift, \n",
    "                             height_shift_range = shift,\n",
    "                             fill_mode = 'wrap',\n",
    "                             # cval = 0,\n",
    "                             horizontal_flip = False, \n",
    "                             vertical_flip = False)\n",
    "datagen = ImageDataGenerator(**image_data_gen_args)\n",
    "\n",
    "# perfrom the transformations on the same slice of all the images \n",
    "slice = 1\n",
    "image_generator = datagen.flow(\n",
    "    np_dataset_x_train[:,:,:,slice,:],\n",
    "    seed=seed, \n",
    "    batch_size = batch_size,\n",
    "    save_to_dir='data/aug', save_prefix='cell', save_format='tiff')\n"
   ]
  },
  {
   "cell_type": "code",
   "execution_count": 32,
   "metadata": {
    "collapsed": false
   },
   "outputs": [
    {
     "ename": "ValueError",
     "evalue": "('Input data in `NumpyArrayIterator` should have rank 4. You passed an array with shape', (5, 256, 256, 27, 1))",
     "output_type": "error",
     "traceback": [
      "\u001b[0;31m---------------------------------------------------------------------------\u001b[0m",
      "\u001b[0;31mValueError\u001b[0m                                Traceback (most recent call last)",
      "\u001b[0;32m<ipython-input-32-b5d833c5219c>\u001b[0m in \u001b[0;36m<module>\u001b[0;34m()\u001b[0m\n\u001b[1;32m     24\u001b[0m     \u001b[0mseed\u001b[0m\u001b[0;34m=\u001b[0m\u001b[0mseed\u001b[0m\u001b[0;34m,\u001b[0m\u001b[0;34m\u001b[0m\u001b[0m\n\u001b[1;32m     25\u001b[0m     \u001b[0mbatch_size\u001b[0m \u001b[0;34m=\u001b[0m \u001b[0mbatch_size\u001b[0m\u001b[0;34m,\u001b[0m\u001b[0;34m\u001b[0m\u001b[0m\n\u001b[0;32m---> 26\u001b[0;31m     save_to_dir='data/aug', save_prefix='cell', save_format='png')\n\u001b[0m\u001b[1;32m     27\u001b[0m label_generator = labelgen.flow(\n\u001b[1;32m     28\u001b[0m     \u001b[0mnp_dataset_l_train\u001b[0m\u001b[0;34m,\u001b[0m\u001b[0;34m\u001b[0m\u001b[0m\n",
      "\u001b[0;32m/Users/kkolyva/anaconda3/lib/python3.6/site-packages/keras/preprocessing/image.py\u001b[0m in \u001b[0;36mflow\u001b[0;34m(self, x, y, batch_size, shuffle, seed, save_to_dir, save_prefix, save_format)\u001b[0m\n\u001b[1;32m    459\u001b[0m             \u001b[0msave_to_dir\u001b[0m\u001b[0;34m=\u001b[0m\u001b[0msave_to_dir\u001b[0m\u001b[0;34m,\u001b[0m\u001b[0;34m\u001b[0m\u001b[0m\n\u001b[1;32m    460\u001b[0m             \u001b[0msave_prefix\u001b[0m\u001b[0;34m=\u001b[0m\u001b[0msave_prefix\u001b[0m\u001b[0;34m,\u001b[0m\u001b[0;34m\u001b[0m\u001b[0m\n\u001b[0;32m--> 461\u001b[0;31m             save_format=save_format)\n\u001b[0m\u001b[1;32m    462\u001b[0m \u001b[0;34m\u001b[0m\u001b[0m\n\u001b[1;32m    463\u001b[0m     def flow_from_directory(self, directory,\n",
      "\u001b[0;32m/Users/kkolyva/anaconda3/lib/python3.6/site-packages/keras/preprocessing/image.py\u001b[0m in \u001b[0;36m__init__\u001b[0;34m(self, x, y, image_data_generator, batch_size, shuffle, seed, data_format, save_to_dir, save_prefix, save_format)\u001b[0m\n\u001b[1;32m    777\u001b[0m             raise ValueError('Input data in `NumpyArrayIterator` '\n\u001b[1;32m    778\u001b[0m                              \u001b[0;34m'should have rank 4. You passed an array '\u001b[0m\u001b[0;34m\u001b[0m\u001b[0m\n\u001b[0;32m--> 779\u001b[0;31m                              'with shape', self.x.shape)\n\u001b[0m\u001b[1;32m    780\u001b[0m         \u001b[0mchannels_axis\u001b[0m \u001b[0;34m=\u001b[0m \u001b[0;36m3\u001b[0m \u001b[0;32mif\u001b[0m \u001b[0mdata_format\u001b[0m \u001b[0;34m==\u001b[0m \u001b[0;34m'channels_last'\u001b[0m \u001b[0;32melse\u001b[0m \u001b[0;36m1\u001b[0m\u001b[0;34m\u001b[0m\u001b[0m\n\u001b[1;32m    781\u001b[0m         \u001b[0;32mif\u001b[0m \u001b[0mself\u001b[0m\u001b[0;34m.\u001b[0m\u001b[0mx\u001b[0m\u001b[0;34m.\u001b[0m\u001b[0mshape\u001b[0m\u001b[0;34m[\u001b[0m\u001b[0mchannels_axis\u001b[0m\u001b[0;34m]\u001b[0m \u001b[0;32mnot\u001b[0m \u001b[0;32min\u001b[0m \u001b[0;34m{\u001b[0m\u001b[0;36m1\u001b[0m\u001b[0;34m,\u001b[0m \u001b[0;36m3\u001b[0m\u001b[0;34m,\u001b[0m \u001b[0;36m4\u001b[0m\u001b[0;34m}\u001b[0m\u001b[0;34m:\u001b[0m\u001b[0;34m\u001b[0m\u001b[0m\n",
      "\u001b[0;31mValueError\u001b[0m: ('Input data in `NumpyArrayIterator` should have rank 4. You passed an array with shape', (5, 256, 256, 27, 1))"
     ]
    }
   ],
   "source": [
    "# in case of images and labels we have to use the following approach: \n",
    "# create 2 instances with the same arguments: \n",
    "shift = 0.02\n",
    "image_data_gen_args = dict(featurewise_center=False, \n",
    "                             featurewise_std_normalization=False, \n",
    "                             # zca_whitening=True, \n",
    "                             rotation_range=5,\n",
    "                             width_shift_range=shift, \n",
    "                             height_shift_range=shift,\n",
    "                             fill_mode = 'wrap',\n",
    "                             # cval = 0,\n",
    "                             horizontal_flip=True, \n",
    "                             vertical_flip=True)\n",
    "\n",
    "datagen = ImageDataGenerator(**image_data_gen_args)\n",
    "labelgen = ImageDataGenerator(**image_data_gen_args)\n",
    "\n",
    "# Only required if featurewise_center or featurewise_std_normalization or zca_whitening.\n",
    "# datagen.fit(np_dataset_x_train, augment=True, seed=seed)\n",
    "# labelgen.fit(np_dataset_l_train, augment=True, seed=seed)\n",
    "\n",
    "image_generator = datagen.flow(\n",
    "    np_dataset_x_train,\n",
    "    seed=seed, \n",
    "    batch_size = batch_size,\n",
    "    save_to_dir='data/aug', save_prefix='cell', save_format='png')\n",
    "label_generator = labelgen.flow(\n",
    "    np_dataset_l_train,\n",
    "    seed=seed,\n",
    "    batch_size = batch_size,\n",
    "    save_to_dir='data/aug', save_prefix='dots', save_format='png')\n",
    "\n",
    "j_batch = 0\n",
    "for X_batch, y_batch in zip(image_generator, label_generator):\n",
    "    print(j_batch, \"th batch with the shapes:\", X_batch.shape, y_batch.shape)     \n",
    "    j_batch += 1;\n",
    "    if (j_batch >= num_batches):\n",
    "        break"
   ]
  },
  {
   "cell_type": "code",
   "execution_count": null,
   "metadata": {
    "collapsed": true
   },
   "outputs": [],
   "source": []
  }
 ],
 "metadata": {
  "kernelspec": {
   "display_name": "Python 3",
   "language": "python",
   "name": "python3"
  },
  "language_info": {
   "codemirror_mode": {
    "name": "ipython",
    "version": 3
   },
   "file_extension": ".py",
   "mimetype": "text/x-python",
   "name": "python",
   "nbconvert_exporter": "python",
   "pygments_lexer": "ipython3",
   "version": "3.6.0"
  }
 },
 "nbformat": 4,
 "nbformat_minor": 2
}
